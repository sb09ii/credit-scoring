{
  "nbformat": 4,
  "nbformat_minor": 0,
  "metadata": {
    "colab": {
      "provenance": [],
      "authorship_tag": "ABX9TyOKWrABtXSBRuRXHpFbQVqw",
      "include_colab_link": true
    },
    "kernelspec": {
      "name": "python3",
      "display_name": "Python 3"
    },
    "language_info": {
      "name": "python"
    }
  },
  "cells": [
    {
      "cell_type": "markdown",
      "metadata": {
        "id": "view-in-github",
        "colab_type": "text"
      },
      "source": [
        "<a href=\"https://colab.research.google.com/github/sb09ii/credit-scoring/blob/main/credit-scoring.ipynb\" target=\"_parent\"><img src=\"https://colab.research.google.com/assets/colab-badge.svg\" alt=\"Open In Colab\"/></a>"
      ]
    },
    {
      "cell_type": "code",
      "execution_count": null,
      "metadata": {
        "id": "eXeKjc76ABm3"
      },
      "outputs": [],
      "source": [
        "import os\n",
        "if HAS_XGB:\n",
        "param_grid['XGBoost'] = {\n",
        "'clf__n_estimators': [100, 200],\n",
        "'clf__max_depth': [3, 5]\n",
        "}\n",
        "\n",
        "\n",
        "best_score = -1\n",
        "best_model = None\n",
        "\n",
        "\n",
        "for name, clf in models.items():\n",
        "print(f\"\\nTraining {name}...\")\n",
        "pipe = Pipeline(steps=[('preprocessor', preprocessor), ('clf', clf)])\n",
        "\n",
        "\n",
        "if name in param_grid:\n",
        "grid = GridSearchCV(pipe, param_grid[name], cv=5, scoring='roc_auc', n_jobs=-1)\n",
        "grid.fit(X_train, y_train)\n",
        "model = grid.best_estimator_\n",
        "print(f\"Best params for {name}: {grid.best_params_}\")\n",
        "else:\n",
        "pipe.fit(X_train, y_train)\n",
        "model = pipe\n",
        "\n",
        "\n",
        "score = evaluate_model(model, X_test, y_test)\n",
        "if score > best_score:\n",
        "best_score = score\n",
        "best_model = model\n",
        "\n",
        "\n",
        "print(f\"\\nBest Model Selected with score {best_score:.4f}\")\n",
        "return best_model\n",
        "\n",
        "\n",
        "def save_model(model, filename=MODEL_FILE):\n",
        "joblib.dump(model, filename)\n",
        "print(f\"Model saved to {filename}\")\n",
        "\n",
        "\n",
        "def load_model(filename=MODEL_FILE):\n",
        "return joblib.load(filename)\n",
        "\n",
        "\n",
        "def predict_example(model, sample):\n",
        "df_sample = pd.DataFrame([sample])\n",
        "proba = None\n",
        "try:\n",
        "proba = model.predict_proba(df_sample)[:,1][0]\n",
        "except Exception:\n",
        "pass\n",
        "pred = model.predict(df_sample)[0]\n",
        "print(f\"Predicted class: {pred}, Probability of default: {proba if proba else 'N/A'}\")\n",
        "return pred\n",
        "\n",
        "\n",
        "def main():\n",
        "df = load_data()\n",
        "eda(df)\n",
        "\n",
        "\n",
        "preprocessor, X, y = preprocess(df, target_col='target')\n",
        "best_model = train_and_select_best(preprocessor, X, y)\n",
        "\n",
        "\n",
        "save_model(best_model)\n",
        "\n",
        "\n",
        "print(\"\\n-- Example Prediction --\")\n",
        "sample = {col: X.iloc[0][col] for col in X.columns}\n",
        "model = load_model()\n",
        "predict_example(model, sample)\n",
        "\n",
        "\n",
        "if __name__ == '__main__':\n",
        "main()"
      ]
    }
  ]
}